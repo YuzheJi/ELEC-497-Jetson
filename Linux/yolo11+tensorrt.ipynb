{
 "cells": [
  {
   "cell_type": "markdown",
   "id": "41fcdf09",
   "metadata": {},
   "source": [
    "# Guide for implement YOLO11 on jetson nano Jetpack 4.6.x\n"
   ]
  },
  {
   "cell_type": "markdown",
   "id": "e351bbb9",
   "metadata": {},
   "source": [
    "## 1. Building SSH Connection Between Laptop and Jetson Nano\n",
    "\n",
    "### Step 1: Prepare the Jetson Nano\n",
    "- Download the Jetson Nano system image from the [official NVIDIA website](https://developer.nvidia.com/embedded/downloads).\n",
    "- Flash and install the image onto the microSD card. **Note:** This step must be completed with a monitor, keyboard, and mouse.\n",
    "- During setup, remember the **username** and **login password** you create.\n",
    "\n",
    "### Step 2: Connect Devices to the Same Network\n",
    "- Ensure both your **laptop** and the **Jetson Nano** are connected to the same Wi-Fi or local network.\n",
    "\n",
    "### Step 3: Install Required Software on Laptop\n",
    "- [WinSCP](https://winscp.net/eng/download.php) – for file transfers between the laptop and Jetson.\n",
    "- [MobaXterm (Personal Edition)](https://mobaxterm.mobatek.net/download.html) – for remote terminal access.\n",
    "\n",
    "---\n",
    "\n",
    "### Step 4: Configure MobaXterm (Remote Command Line Access)\n",
    "1. Open **MobaXterm**.\n",
    "2. Go to `Tools` → `Network Scanner` to scan for devices on the network.\n",
    "3. Find the Jetson Nano in the list (usually identifiable by manufacturer or hostname).\n",
    "4. Note the **IP address** of the Jetson.\n",
    "5. Go to `Session` → `New Session`.\n",
    "6. Select **SSH** as the session type.\n",
    "7. Enter the Jetson's IP address in the **Remote Host** field.\n",
    "8. Click **OK** to start the session.\n",
    "9. When prompted, enter the **username** and **password** for the Jetson.\n",
    "\n",
    "---\n",
    "\n",
    "### Step 5: Configure WinSCP (File Transfer)\n",
    "1. Open **WinSCP**.\n",
    "2. Click **New Site**.\n",
    "3. Set the following:\n",
    "   - **File protocol**: `SFTP`\n",
    "   - **Host name**: Jetson's IP address\n",
    "   - **Port number**: `22` (default for SSH/SFTP)\n",
    "   - **Username**: your Jetson username\n",
    "   - **Password**: your Jetson password\n",
    "4. (Optional) Click **Save** to store the configuration for future use.\n",
    "5. Click **Login** to start the session.\n"
   ]
  },
  {
   "cell_type": "markdown",
   "id": "e444692e",
   "metadata": {},
   "source": [
    "## 2. Create python3.8 on Jetson Nano\n",
    "step1 Download miniforge3 or anaconda(Python envronment manager)\n",
    "1. "
   ]
  }
 ],
 "metadata": {
  "language_info": {
   "name": "python"
  }
 },
 "nbformat": 4,
 "nbformat_minor": 5
}
