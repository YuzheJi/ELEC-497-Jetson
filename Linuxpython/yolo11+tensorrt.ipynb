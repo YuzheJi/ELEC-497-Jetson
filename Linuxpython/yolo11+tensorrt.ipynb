{
 "cells": [
  {
   "cell_type": "markdown",
   "id": "41fcdf09",
   "metadata": {},
   "source": [
    "## Guide for implement YOLO11 on jetson nano Jetpack 4.6.x\n"
   ]
  },
  {
   "cell_type": "markdown",
   "id": "e351bbb9",
   "metadata": {},
   "source": []
  }
 ],
 "metadata": {
  "language_info": {
   "name": "python"
  }
 },
 "nbformat": 4,
 "nbformat_minor": 5
}
